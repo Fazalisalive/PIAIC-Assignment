{
  "nbformat": 4,
  "nbformat_minor": 0,
  "metadata": {
    "colab": {
      "name": "Q3: Assignment # 1 Develop a CNN for MNIST Handwritten Digit Classification.ipynb",
      "provenance": [],
      "collapsed_sections": [],
      "authorship_tag": "ABX9TyMvzpeTcO0XJte5iTxQp0R/",
      "include_colab_link": true
    },
    "kernelspec": {
      "name": "python3",
      "display_name": "Python 3"
    }
  },
  "cells": [
    {
      "cell_type": "markdown",
      "metadata": {
        "id": "view-in-github",
        "colab_type": "text"
      },
      "source": [
        "<a href=\"https://colab.research.google.com/github/Fazalisalive/PIAIC-Assignment/blob/master/Q3_Assignment_1_Develop_a_CNN_for_MNIST_Handwritten_Digit_Classification.ipynb\" target=\"_parent\"><img src=\"https://colab.research.google.com/assets/colab-badge.svg\" alt=\"Open In Colab\"/></a>"
      ]
    },
    {
      "cell_type": "code",
      "metadata": {
        "id": "6iNuJUzyRLbC"
      },
      "source": [
        "# imports for array-handling and plotting\r\n",
        "import numpy as np\r\n",
        "import matplotlib\r\n",
        "matplotlib.use('agg')\r\n",
        "import matplotlib.pyplot as plt\r\n",
        "\r\n",
        "# let's keep our keras backend tensorflow quiet to disable all logging output from TensorFlow\r\n",
        "import os\r\n",
        "os.environ['TF_CPP_MIN_LOG_LEVEL']='3'\r\n",
        "\r\n",
        "# keras imports for the dataset and building our neural network\r\n",
        "from keras.datasets import mnist\r\n",
        "from keras.models import Sequential, load_model\r\n",
        "from keras.layers.core import Dense, Dropout, Activation\r\n",
        "from keras.utils import np_utils"
      ],
      "execution_count": null,
      "outputs": []
    },
    {
      "cell_type": "code",
      "metadata": {
        "id": "mxCLfgKPzef1"
      },
      "source": [
        "# 1. Download dataset using following command\r\n",
        "\r\n",
        "import tensorflow as tf\r\n",
        "(trainx, trainy), (testx, testy) = tf.keras.datasets.mnist.load_data()"
      ],
      "execution_count": null,
      "outputs": []
    },
    {
      "cell_type": "code",
      "metadata": {
        "colab": {
          "base_uri": "https://localhost:8080/"
        },
        "id": "dCx4ZbLJZsaO",
        "outputId": "2fa74dfa-70fe-4ee2-d58d-70346620f0ca"
      },
      "source": [
        "# 2. Check the size and plot the images\r\n",
        "trainx.shape"
      ],
      "execution_count": null,
      "outputs": [
        {
          "output_type": "execute_result",
          "data": {
            "text/plain": [
              "(60000, 28, 28)"
            ]
          },
          "metadata": {
            "tags": []
          },
          "execution_count": 32
        }
      ]
    },
    {
      "cell_type": "code",
      "metadata": {
        "colab": {
          "base_uri": "https://localhost:8080/",
          "height": 299
        },
        "id": "pXIm5wjibT8F",
        "outputId": "6ef7842e-b717-40d3-a72e-f51dd1de798b"
      },
      "source": [
        "# Lets randomly check what is available at any random index (say index # 45676) of our training dataset\r\n",
        "import matplotlib.pyplot as plt\r\n",
        "image_index = 45676\r\n",
        "print(trainy[image_index])\r\n",
        "plt.imshow(trainx[image_index], cmap='Greys')"
      ],
      "execution_count": null,
      "outputs": [
        {
          "output_type": "stream",
          "text": [
            "0\n"
          ],
          "name": "stdout"
        },
        {
          "output_type": "execute_result",
          "data": {
            "text/plain": [
              "<matplotlib.image.AxesImage at 0x7f16b70ba908>"
            ]
          },
          "metadata": {
            "tags": []
          },
          "execution_count": 33
        },
        {
          "output_type": "display_data",
          "data": {
            "image/png": "[encoded data removed]",
            "text/plain": [
              "<Figure size 432x288 with 1 Axes>"
            ]
          },
          "metadata": {
            "tags": [],
            "needs_background": "light"
          }
        }
      ]
    },
    {
      "cell_type": "code",
      "metadata": {
        "colab": {
          "base_uri": "https://localhost:8080/"
        },
        "id": "rtEmUqnihI0T",
        "outputId": "8bb38d85-287e-468b-aa81-3f78e133b93e"
      },
      "source": [
        "# 3. Apply one hot encoding, float conversion and normalization\r\n",
        "\r\n",
        "# let's print the shape before we reshape and normalize the dataset\r\n",
        "print(\"trainx shape\", trainx.shape)\r\n",
        "print(\"trainy shape\", trainy.shape)\r\n",
        "print(\"testx shape\", testx.shape)\r\n",
        "print(\"testy shape\", testy.shape)\r\n"
      ],
      "execution_count": null,
      "outputs": [
        {
          "output_type": "stream",
          "text": [
            "trainx shape (60000, 28, 28)\n",
            "trainy shape (60000,)\n",
            "testx shape (10000, 28, 28)\n",
            "testy shape (10000,)\n"
          ],
          "name": "stdout"
        }
      ]
    },
    {
      "cell_type": "code",
      "metadata": {
        "id": "K9ujWY__lcMC"
      },
      "source": [
        "# building the input vector from the 28x28 pixels\r\n",
        "# Reshaping the array to 4-dimensions so that it can work with the Keras API\r\n",
        "trainx = trainx.reshape(trainx.shape[0], 28, 28, 1)\r\n",
        "testx = testx.reshape(testx.shape[0], 28, 28, 1)\r\n",
        "input_shape = (28, 28, 1)\r\n",
        "\r\n",
        "# float conversion\r\n",
        "\r\n",
        "trainx = trainx.astype('float32')\r\n",
        "testx = testx.astype('float32')\r\n",
        "\r\n",
        "# normalization\r\n",
        "\r\n",
        "trainx /= 255.0\r\n",
        "testx /= 255.0"
      ],
      "execution_count": null,
      "outputs": []
    },
    {
      "cell_type": "code",
      "metadata": {
        "colab": {
          "base_uri": "https://localhost:8080/"
        },
        "id": "O2cXs313oVRu",
        "outputId": "ac80364b-229b-4b93-9a2e-68d2cf137f81"
      },
      "source": [
        "print('trainx Shape:', trainx.shape)\r\n",
        "print('No. of Images in trainx:', trainx.shape[0])\r\n",
        "print('No. of Images in testx:', testx.shape[0])"
      ],
      "execution_count": null,
      "outputs": [
        {
          "output_type": "stream",
          "text": [
            "trainx Shape: (60000, 28, 28, 1)\n",
            "No. of Images in trainx: 60000\n",
            "No. of Images in testx: 10000\n"
          ],
          "name": "stdout"
        }
      ]
    },
    {
      "cell_type": "code",
      "metadata": {
        "colab": {
          "base_uri": "https://localhost:8080/"
        },
        "id": "JIDUmv6gxi3L",
        "outputId": "529d08a1-b472-4bc6-db79-aea2367afc1d"
      },
      "source": [
        "# print the final input shape ready for training\r\n",
        "print(\"Train matrix shape\", trainx.shape)\r\n",
        "print(\"Test matrix shape\", testx.shape)"
      ],
      "execution_count": null,
      "outputs": [
        {
          "output_type": "stream",
          "text": [
            "Train matrix shape (60000, 28, 28, 1)\n",
            "Test matrix shape (10000, 28, 28, 1)\n"
          ],
          "name": "stdout"
        }
      ]
    },
    {
      "cell_type": "code",
      "metadata": {
        "colab": {
          "base_uri": "https://localhost:8080/"
        },
        "id": "MltDQRPBy5b4",
        "outputId": "8024df0a-1ae3-4898-b671-94ca3287a18d"
      },
      "source": [
        "# Lets check what are the unique no. of values in in numpy array to identify classication level\r\n",
        "print(np.unique(trainy, return_counts=True))"
      ],
      "execution_count": null,
      "outputs": [
        {
          "output_type": "stream",
          "text": [
            "(array([0, 1, 2, 3, 4, 5, 6, 7, 8, 9], dtype=uint8), array([5923, 6742, 5958, 6131, 5842, 5421, 5918, 6265, 5851, 5949]))\n"
          ],
          "name": "stdout"
        }
      ]
    },
    {
      "cell_type": "code",
      "metadata": {
        "id": "g0fAmVS9y8MZ"
      },
      "source": [
        "# one-hot encoding using keras' numpy-related utilities\r\n",
        "#n_classes = 10\r\n",
        "#print('Shape before one hot encoding:', trainy.shape)\r\n",
        "#trainy = np_utils.to_categorical(trainy, n_classes)\r\n",
        "#testy = np_utils.to_categorical(testy, n_classes)\r\n",
        "#print('Shape after one hot encoding:', trainy.shape)"
      ],
      "execution_count": null,
      "outputs": []
    },
    {
      "cell_type": "code",
      "metadata": {
        "id": "zPZNMfgppUMU"
      },
      "source": [
        "# 4. Define your CNN architecture and 5. Set your parameters\r\n",
        "\r\n",
        "from tensorflow.keras.models import Sequential\r\n",
        "from tensorflow.keras.layers import Dense, Conv2D, Dropout, Flatten, MaxPooling2D"
      ],
      "execution_count": null,
      "outputs": []
    },
    {
      "cell_type": "code",
      "metadata": {
        "id": "ivKPLoAMXyYN"
      },
      "source": [
        "# Creating a Sequential Model and adding the layers\r\n",
        "\r\n",
        "model = Sequential()\r\n",
        "\r\n",
        "model.add(Conv2D(28, kernel_size=(3,3),activation='relu', input_shape=input_shape))\r\n",
        "model.add(MaxPooling2D(pool_size=(3,3)))\r\n",
        "\r\n",
        "# Flattening the 2D arrays for fully connected layers\r\n",
        "model.add(Flatten())\r\n",
        "\r\n",
        "model.add(Dense(128, activation=tf.nn.relu))\r\n",
        "\r\n",
        "model.add(Dropout(0.2))\r\n",
        "\r\n",
        "model.add(Dense(10, activation=tf.nn.softmax))"
      ],
      "execution_count": null,
      "outputs": []
    },
    {
      "cell_type": "code",
      "metadata": {
        "colab": {
          "base_uri": "https://localhost:8080/"
        },
        "id": "q15Kq28eaG8N",
        "outputId": "1e63527c-e850-4c75-e778-e34dea0223f9"
      },
      "source": [
        "model.summary()"
      ],
      "execution_count": null,
      "outputs": [
        {
          "output_type": "stream",
          "text": [
            "Model: \"sequential_8\"\n",
            "_________________________________________________________________\n",
            "Layer (type)                 Output Shape              Param #   \n",
            "=================================================================\n",
            "conv2d_16 (Conv2D)           (None, 26, 26, 28)        280       \n",
            "_________________________________________________________________\n",
            "max_pooling2d_14 (MaxPooling (None, 8, 8, 28)          0         \n",
            "_________________________________________________________________\n",
            "flatten_6 (Flatten)          (None, 1792)              0         \n",
            "_________________________________________________________________\n",
            "dense_12 (Dense)             (None, 128)               229504    \n",
            "_________________________________________________________________\n",
            "dropout_6 (Dropout)          (None, 128)               0         \n",
            "_________________________________________________________________\n",
            "dense_13 (Dense)             (None, 10)                1290      \n",
            "=================================================================\n",
            "Total params: 231,074\n",
            "Trainable params: 231,074\n",
            "Non-trainable params: 0\n",
            "_________________________________________________________________\n"
          ],
          "name": "stdout"
        }
      ]
    },
    {
      "cell_type": "code",
      "metadata": {
        "colab": {
          "base_uri": "https://localhost:8080/",
          "height": 954
        },
        "id": "mKKBopK-amyi",
        "outputId": "391c2401-8c62-4353-da7b-64bd977d12e2"
      },
      "source": [
        "# 6. Run your model to evaluate the results\r\n",
        "\r\n",
        "model.compile(optimizer='adam',\r\n",
        "              loss='sparse_categorical_crossentropy', \r\n",
        "              metrics=['accuracy'])\r\n",
        "\r\n",
        "# Model Evaluation\r\n",
        "\r\n",
        "history = model.fit(x=trainx, y=trainy,\r\n",
        "                    epochs=10,\r\n",
        "                    validation_data=(testx, testy))\r\n",
        "\r\n",
        "# saving the model\r\n",
        "save_dir = \"/results/\"\r\n",
        "model_name = 'keras_mnist.h5'\r\n",
        "model_path = os.path.join(save_dir, model_name)\r\n",
        "model.save(model_path)\r\n",
        "print('Saved trained model at %s ' % model_path)\r\n",
        "\r\n",
        "# plotting the metrics\r\n",
        "fig = plt.figure()\r\n",
        "plt.subplot(2,1,1)\r\n",
        "plt.plot(history.history['accuracy'])\r\n",
        "plt.plot(history.history['val_accuracy'])\r\n",
        "plt.title('model accuracy')\r\n",
        "plt.ylabel('accuracy')\r\n",
        "plt.xlabel('epoch')\r\n",
        "plt.legend(['train', 'test'], loc='lower right')\r\n",
        "\r\n",
        "plt.subplot(2,1,2)\r\n",
        "plt.plot(history.history['loss'])\r\n",
        "plt.plot(history.history['val_loss'])\r\n",
        "plt.title('model loss')\r\n",
        "plt.ylabel('loss')\r\n",
        "plt.xlabel('epoch')\r\n",
        "plt.legend(['train', 'test'], loc='upper right')\r\n",
        "\r\n",
        "plt.tight_layout()\r\n",
        "\r\n",
        "fig"
      ],
      "execution_count": null,
      "outputs": [
        {
          "output_type": "stream",
          "text": [
            "Epoch 1/10\n",
            "1875/1875 [==============================] - 25s 13ms/step - loss: 0.3911 - accuracy: 0.8838 - val_loss: 0.0693 - val_accuracy: 0.9794\n",
            "Epoch 2/10\n",
            "1875/1875 [==============================] - 23s 13ms/step - loss: 0.0782 - accuracy: 0.9745 - val_loss: 0.0455 - val_accuracy: 0.9856\n",
            "Epoch 3/10\n",
            "1875/1875 [==============================] - 24s 13ms/step - loss: 0.0532 - accuracy: 0.9846 - val_loss: 0.0388 - val_accuracy: 0.9870\n",
            "Epoch 4/10\n",
            "1875/1875 [==============================] - 24s 13ms/step - loss: 0.0421 - accuracy: 0.9867 - val_loss: 0.0349 - val_accuracy: 0.9894\n",
            "Epoch 5/10\n",
            "1875/1875 [==============================] - 24s 13ms/step - loss: 0.0344 - accuracy: 0.9887 - val_loss: 0.0358 - val_accuracy: 0.9878\n",
            "Epoch 6/10\n",
            "1875/1875 [==============================] - 23s 12ms/step - loss: 0.0262 - accuracy: 0.9918 - val_loss: 0.0308 - val_accuracy: 0.9896\n",
            "Epoch 7/10\n",
            "1875/1875 [==============================] - 23s 13ms/step - loss: 0.0197 - accuracy: 0.9940 - val_loss: 0.0367 - val_accuracy: 0.9889\n",
            "Epoch 8/10\n",
            "1875/1875 [==============================] - 23s 13ms/step - loss: 0.0194 - accuracy: 0.9937 - val_loss: 0.0357 - val_accuracy: 0.9886\n",
            "Epoch 9/10\n",
            "1875/1875 [==============================] - 24s 13ms/step - loss: 0.0141 - accuracy: 0.9954 - val_loss: 0.0378 - val_accuracy: 0.9882\n",
            "Epoch 10/10\n",
            "1875/1875 [==============================] - 24s 13ms/step - loss: 0.0129 - accuracy: 0.9955 - val_loss: 0.0387 - val_accuracy: 0.9881\n",
            "Saved trained model at /results/keras_mnist.h5 \n"
          ],
          "name": "stdout"
        },
        {
          "output_type": "execute_result",
          "data": {
            "image/png": "[encoded data removed]",
            "text/plain": [
              "<Figure size 432x288 with 2 Axes>"
            ]
          },
          "metadata": {
            "tags": []
          },
          "execution_count": 52
        },
        {
          "output_type": "display_data",
          "data": {
            "image/png": "[encoded data removed]",
            "text/plain": [
              "<Figure size 432x288 with 2 Axes>"
            ]
          },
          "metadata": {
            "tags": [],
            "needs_background": "light"
          }
        }
      ]
    },
    {
      "cell_type": "markdown",
      "metadata": {
        "id": "CkKQ1Fkl4vmY"
      },
      "source": [
        "# New Section"
      ]
    }
  ]
}